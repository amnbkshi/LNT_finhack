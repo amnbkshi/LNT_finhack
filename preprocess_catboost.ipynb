{
 "cells": [
  {
   "cell_type": "code",
   "execution_count": 36,
   "metadata": {},
   "outputs": [],
   "source": [
    "import pandas as pd\n",
    "import numpy as np\n",
    "from sklearn.model_selection import train_test_split"
   ]
  },
  {
   "cell_type": "code",
   "execution_count": 37,
   "metadata": {},
   "outputs": [],
   "source": [
    "df = pd.read_csv('train_aox2Jxw/train.csv', parse_dates=['Date.of.Birth', 'DisbursalDate'])"
   ]
  },
  {
   "cell_type": "code",
   "execution_count": 44,
   "metadata": {},
   "outputs": [
    {
     "name": "stdout",
     "output_type": "stream",
     "text": [
      "0    0yrs\n",
      "1    1yrs\n",
      "2    0yrs\n",
      "3    1yrs\n",
      "4    0yrs\n",
      "Name: CREDIT.HISTORY.LENGTH, dtype: object\n"
     ]
    }
   ],
   "source": [
    "a = df['CREDIT.HISTORY.LENGTH'].apply(lambda x: x.split(' ')[0])\n",
    "print(a.head())"
   ]
  },
  {
   "cell_type": "code",
   "execution_count": 40,
   "metadata": {},
   "outputs": [
    {
     "name": "stdout",
     "output_type": "stream",
     "text": [
      "   UniqueID  disbursed_amount  asset_cost    ltv  branch_id  supplier_id  \\\n",
      "0    420825             50578       58400  89.55         67        22807   \n",
      "1    537409             47145       65550  73.23         67        22807   \n",
      "2    417566             53278       61360  89.63         67        22807   \n",
      "3    624493             57513       66113  88.48         67        22807   \n",
      "4    539055             52378       60300  88.39         67        22807   \n",
      "\n",
      "   manufacturer_id  Current_pincode_ID Date.of.Birth Employment.Type  \\\n",
      "0               45                1441    1984-01-01        Salaried   \n",
      "1               45                1502    1985-07-31   Self employed   \n",
      "2               45                1497    1985-08-24   Self employed   \n",
      "3               45                1501    1993-12-30   Self employed   \n",
      "4               45                1495    1977-09-12   Self employed   \n",
      "\n",
      "       ...      SEC.SANCTIONED.AMOUNT  SEC.DISBURSED.AMOUNT  \\\n",
      "0      ...                          0                     0   \n",
      "1      ...                          0                     0   \n",
      "2      ...                          0                     0   \n",
      "3      ...                          0                     0   \n",
      "4      ...                          0                     0   \n",
      "\n",
      "   PRIMARY.INSTAL.AMT  SEC.INSTAL.AMT  NEW.ACCTS.IN.LAST.SIX.MONTHS  \\\n",
      "0                   0               0                             0   \n",
      "1                1991               0                             0   \n",
      "2                   0               0                             0   \n",
      "3                  31               0                             0   \n",
      "4                   0               0                             0   \n",
      "\n",
      "   DELINQUENT.ACCTS.IN.LAST.SIX.MONTHS  AVERAGE.ACCT.AGE  \\\n",
      "0                                    0         0yrs 0mon   \n",
      "1                                    1        1yrs 11mon   \n",
      "2                                    0         0yrs 0mon   \n",
      "3                                    0         0yrs 8mon   \n",
      "4                                    0         0yrs 0mon   \n",
      "\n",
      "   CREDIT.HISTORY.LENGTH  NO.OF_INQUIRIES  loan_default  \n",
      "0              0yrs 0mon                0             0  \n",
      "1             1yrs 11mon                0             1  \n",
      "2              0yrs 0mon                0             0  \n",
      "3              1yrs 3mon                1             1  \n",
      "4              0yrs 0mon                1             1  \n",
      "\n",
      "[5 rows x 41 columns]\n",
      "UniqueID                                        int64\n",
      "disbursed_amount                                int64\n",
      "asset_cost                                      int64\n",
      "ltv                                           float64\n",
      "branch_id                                       int64\n",
      "supplier_id                                     int64\n",
      "manufacturer_id                                 int64\n",
      "Current_pincode_ID                              int64\n",
      "Date.of.Birth                          datetime64[ns]\n",
      "Employment.Type                                object\n",
      "DisbursalDate                          datetime64[ns]\n",
      "State_ID                                        int64\n",
      "Employee_code_ID                                int64\n",
      "MobileNo_Avl_Flag                               int64\n",
      "Aadhar_flag                                     int64\n",
      "PAN_flag                                        int64\n",
      "VoterID_flag                                    int64\n",
      "Driving_flag                                    int64\n",
      "Passport_flag                                   int64\n",
      "PERFORM_CNS.SCORE                               int64\n",
      "PERFORM_CNS.SCORE.DESCRIPTION                  object\n",
      "PRI.NO.OF.ACCTS                                 int64\n",
      "PRI.ACTIVE.ACCTS                                int64\n",
      "PRI.OVERDUE.ACCTS                               int64\n",
      "PRI.CURRENT.BALANCE                             int64\n",
      "PRI.SANCTIONED.AMOUNT                           int64\n",
      "PRI.DISBURSED.AMOUNT                            int64\n",
      "SEC.NO.OF.ACCTS                                 int64\n",
      "SEC.ACTIVE.ACCTS                                int64\n",
      "SEC.OVERDUE.ACCTS                               int64\n",
      "SEC.CURRENT.BALANCE                             int64\n",
      "SEC.SANCTIONED.AMOUNT                           int64\n",
      "SEC.DISBURSED.AMOUNT                            int64\n",
      "PRIMARY.INSTAL.AMT                              int64\n",
      "SEC.INSTAL.AMT                                  int64\n",
      "NEW.ACCTS.IN.LAST.SIX.MONTHS                    int64\n",
      "DELINQUENT.ACCTS.IN.LAST.SIX.MONTHS             int64\n",
      "AVERAGE.ACCT.AGE                               object\n",
      "CREDIT.HISTORY.LENGTH                          object\n",
      "NO.OF_INQUIRIES                                 int64\n",
      "loan_default                                    int64\n",
      "dtype: object\n"
     ]
    }
   ],
   "source": [
    "print(df.head())\n",
    "print(df.dtypes)"
   ]
  },
  {
   "cell_type": "code",
   "execution_count": 11,
   "metadata": {},
   "outputs": [
    {
     "data": {
      "text/plain": [
       "0   2018-03-08\n",
       "1   2018-09-26\n",
       "2   2018-01-08\n",
       "3   2018-10-26\n",
       "4   2018-09-26\n",
       "Name: DisbursalDate, dtype: datetime64[ns]"
      ]
     },
     "execution_count": 11,
     "metadata": {},
     "output_type": "execute_result"
    }
   ],
   "source": [
    "df['DisbursalDate'].head()"
   ]
  },
  {
   "cell_type": "code",
   "execution_count": 22,
   "metadata": {},
   "outputs": [],
   "source": [
    "df.drop(['UniqueID', 'Employee_code_ID', 'supplier_id', 'Current_pincode_ID'], inplace=True, axis=1)\n",
    "df['Employment.Type'].fillna('temp', inplace=True)"
   ]
  },
  {
   "cell_type": "code",
   "execution_count": 23,
   "metadata": {},
   "outputs": [
    {
     "data": {
      "text/html": [
       "<div>\n",
       "<style scoped>\n",
       "    .dataframe tbody tr th:only-of-type {\n",
       "        vertical-align: middle;\n",
       "    }\n",
       "\n",
       "    .dataframe tbody tr th {\n",
       "        vertical-align: top;\n",
       "    }\n",
       "\n",
       "    .dataframe thead th {\n",
       "        text-align: right;\n",
       "    }\n",
       "</style>\n",
       "<table border=\"1\" class=\"dataframe\">\n",
       "  <thead>\n",
       "    <tr style=\"text-align: right;\">\n",
       "      <th></th>\n",
       "      <th>Date.of.Birth</th>\n",
       "      <th>DisbursalDate</th>\n",
       "      <th>AVERAGE.ACCT.AGE</th>\n",
       "      <th>CREDIT.HISTORY.LENGTH</th>\n",
       "    </tr>\n",
       "  </thead>\n",
       "  <tbody>\n",
       "    <tr>\n",
       "      <th>0</th>\n",
       "      <td>1984-01-01</td>\n",
       "      <td>2018-03-08</td>\n",
       "      <td>0</td>\n",
       "      <td>0</td>\n",
       "    </tr>\n",
       "    <tr>\n",
       "      <th>1</th>\n",
       "      <td>1985-07-31</td>\n",
       "      <td>2018-09-26</td>\n",
       "      <td>1</td>\n",
       "      <td>1</td>\n",
       "    </tr>\n",
       "    <tr>\n",
       "      <th>2</th>\n",
       "      <td>1985-08-24</td>\n",
       "      <td>2018-01-08</td>\n",
       "      <td>0</td>\n",
       "      <td>0</td>\n",
       "    </tr>\n",
       "    <tr>\n",
       "      <th>3</th>\n",
       "      <td>1993-12-30</td>\n",
       "      <td>2018-10-26</td>\n",
       "      <td>0</td>\n",
       "      <td>1</td>\n",
       "    </tr>\n",
       "    <tr>\n",
       "      <th>4</th>\n",
       "      <td>1977-09-12</td>\n",
       "      <td>2018-09-26</td>\n",
       "      <td>0</td>\n",
       "      <td>0</td>\n",
       "    </tr>\n",
       "  </tbody>\n",
       "</table>\n",
       "</div>"
      ],
      "text/plain": [
       "  Date.of.Birth DisbursalDate AVERAGE.ACCT.AGE CREDIT.HISTORY.LENGTH\n",
       "0    1984-01-01    2018-03-08                0                     0\n",
       "1    1985-07-31    2018-09-26                1                     1\n",
       "2    1985-08-24    2018-01-08                0                     0\n",
       "3    1993-12-30    2018-10-26                0                     1\n",
       "4    1977-09-12    2018-09-26                0                     0"
      ]
     },
     "execution_count": 23,
     "metadata": {},
     "output_type": "execute_result"
    }
   ],
   "source": [
    "df[['Date.of.Birth', 'DisbursalDate', 'AVERAGE.ACCT.AGE', 'CREDIT.HISTORY.LENGTH']].head()"
   ]
  },
  {
   "cell_type": "code",
   "execution_count": 24,
   "metadata": {},
   "outputs": [],
   "source": [
    "df['CREDIT.HISTORY.LENGTH'] = df['CREDIT.HISTORY.LENGTH'].apply(lambda x: x.split(' ')[0])\n",
    "df['CREDIT.HISTORY.LENGTH'] = df['CREDIT.HISTORY.LENGTH'].apply(lambda x: x.split('yrs')[0])\n",
    "\n",
    "df['AVERAGE.ACCT.AGE'] = df['AVERAGE.ACCT.AGE'].apply(lambda x: x.split(' ')[0])\n",
    "df['AVERAGE.ACCT.AGE'] = df['AVERAGE.ACCT.AGE'].apply(lambda x: x.split('yrs')[0])"
   ]
  },
  {
   "cell_type": "code",
   "execution_count": 25,
   "metadata": {},
   "outputs": [
    {
     "data": {
      "text/html": [
       "<div>\n",
       "<style scoped>\n",
       "    .dataframe tbody tr th:only-of-type {\n",
       "        vertical-align: middle;\n",
       "    }\n",
       "\n",
       "    .dataframe tbody tr th {\n",
       "        vertical-align: top;\n",
       "    }\n",
       "\n",
       "    .dataframe thead th {\n",
       "        text-align: right;\n",
       "    }\n",
       "</style>\n",
       "<table border=\"1\" class=\"dataframe\">\n",
       "  <thead>\n",
       "    <tr style=\"text-align: right;\">\n",
       "      <th></th>\n",
       "      <th>Date.of.Birth</th>\n",
       "      <th>DisbursalDate</th>\n",
       "      <th>AVERAGE.ACCT.AGE</th>\n",
       "      <th>CREDIT.HISTORY.LENGTH</th>\n",
       "    </tr>\n",
       "  </thead>\n",
       "  <tbody>\n",
       "    <tr>\n",
       "      <th>0</th>\n",
       "      <td>1984-01-01</td>\n",
       "      <td>2018-03-08</td>\n",
       "      <td>0</td>\n",
       "      <td>0</td>\n",
       "    </tr>\n",
       "    <tr>\n",
       "      <th>1</th>\n",
       "      <td>1985-07-31</td>\n",
       "      <td>2018-09-26</td>\n",
       "      <td>1</td>\n",
       "      <td>1</td>\n",
       "    </tr>\n",
       "    <tr>\n",
       "      <th>2</th>\n",
       "      <td>1985-08-24</td>\n",
       "      <td>2018-01-08</td>\n",
       "      <td>0</td>\n",
       "      <td>0</td>\n",
       "    </tr>\n",
       "    <tr>\n",
       "      <th>3</th>\n",
       "      <td>1993-12-30</td>\n",
       "      <td>2018-10-26</td>\n",
       "      <td>0</td>\n",
       "      <td>1</td>\n",
       "    </tr>\n",
       "    <tr>\n",
       "      <th>4</th>\n",
       "      <td>1977-09-12</td>\n",
       "      <td>2018-09-26</td>\n",
       "      <td>0</td>\n",
       "      <td>0</td>\n",
       "    </tr>\n",
       "  </tbody>\n",
       "</table>\n",
       "</div>"
      ],
      "text/plain": [
       "  Date.of.Birth DisbursalDate AVERAGE.ACCT.AGE CREDIT.HISTORY.LENGTH\n",
       "0    1984-01-01    2018-03-08                0                     0\n",
       "1    1985-07-31    2018-09-26                1                     1\n",
       "2    1985-08-24    2018-01-08                0                     0\n",
       "3    1993-12-30    2018-10-26                0                     1\n",
       "4    1977-09-12    2018-09-26                0                     0"
      ]
     },
     "execution_count": 25,
     "metadata": {},
     "output_type": "execute_result"
    }
   ],
   "source": [
    "df[['Date.of.Birth', 'DisbursalDate', 'AVERAGE.ACCT.AGE', 'CREDIT.HISTORY.LENGTH']].head()"
   ]
  },
  {
   "cell_type": "code",
   "execution_count": 31,
   "metadata": {},
   "outputs": [],
   "source": [
    "df['Date.of.Birth'] = np.abs(2019 - df['Date.of.Birth'].dt.year)\n",
    "df['DisbursalDate'] = df['DisbursalDate'].dt.month"
   ]
  },
  {
   "cell_type": "code",
   "execution_count": 35,
   "metadata": {},
   "outputs": [
    {
     "data": {
      "text/plain": [
       "disbursed_amount                         int64\n",
       "asset_cost                               int64\n",
       "ltv                                    float64\n",
       "branch_id                                int64\n",
       "manufacturer_id                          int64\n",
       "Date.of.Birth                            int64\n",
       "Employment.Type                         object\n",
       "DisbursalDate                            int64\n",
       "State_ID                                 int64\n",
       "MobileNo_Avl_Flag                        int64\n",
       "Aadhar_flag                              int64\n",
       "PAN_flag                                 int64\n",
       "VoterID_flag                             int64\n",
       "Driving_flag                             int64\n",
       "Passport_flag                            int64\n",
       "PERFORM_CNS.SCORE                        int64\n",
       "PERFORM_CNS.SCORE.DESCRIPTION           object\n",
       "PRI.NO.OF.ACCTS                          int64\n",
       "PRI.ACTIVE.ACCTS                         int64\n",
       "PRI.OVERDUE.ACCTS                        int64\n",
       "PRI.CURRENT.BALANCE                      int64\n",
       "PRI.SANCTIONED.AMOUNT                    int64\n",
       "PRI.DISBURSED.AMOUNT                     int64\n",
       "SEC.NO.OF.ACCTS                          int64\n",
       "SEC.ACTIVE.ACCTS                         int64\n",
       "SEC.OVERDUE.ACCTS                        int64\n",
       "SEC.CURRENT.BALANCE                      int64\n",
       "SEC.SANCTIONED.AMOUNT                    int64\n",
       "SEC.DISBURSED.AMOUNT                     int64\n",
       "PRIMARY.INSTAL.AMT                       int64\n",
       "SEC.INSTAL.AMT                           int64\n",
       "NEW.ACCTS.IN.LAST.SIX.MONTHS             int64\n",
       "DELINQUENT.ACCTS.IN.LAST.SIX.MONTHS      int64\n",
       "AVERAGE.ACCT.AGE                        object\n",
       "CREDIT.HISTORY.LENGTH                   object\n",
       "NO.OF_INQUIRIES                          int64\n",
       "loan_default                             int64\n",
       "dtype: object"
      ]
     },
     "execution_count": 35,
     "metadata": {},
     "output_type": "execute_result"
    }
   ],
   "source": [
    "df.dtypes"
   ]
  },
  {
   "cell_type": "code",
   "execution_count": null,
   "metadata": {},
   "outputs": [],
   "source": [
    "y = df['loan_default']\n",
    "x = df.iloc[:,:-1]\n",
    "x_train, x_test, y_train, y_test = train_test_split(x, y, test_size=0.2)\n",
    "cat_indice = np.array([3, 4, 6, 8, 9, 10, 11, 12, 13, 14, 16])\n",
    "model = CatBoostClassifier(eval_metric='AUC' , depth=10, iterations= 500, l2_leaf_reg= 6, learning_rate= 0.1)\n",
    "model.fit(x_train, y_train, cat_features = cat_indice)"
   ]
  }
 ],
 "metadata": {
  "kernelspec": {
   "display_name": "Python 3",
   "language": "python",
   "name": "python3"
  },
  "language_info": {
   "codemirror_mode": {
    "name": "ipython",
    "version": 3
   },
   "file_extension": ".py",
   "mimetype": "text/x-python",
   "name": "python",
   "nbconvert_exporter": "python",
   "pygments_lexer": "ipython3",
   "version": "3.6.5"
  }
 },
 "nbformat": 4,
 "nbformat_minor": 2
}
